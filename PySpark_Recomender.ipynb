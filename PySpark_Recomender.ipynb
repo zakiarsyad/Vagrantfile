{
  "nbformat": 4,
  "nbformat_minor": 0,
  "metadata": {
    "colab": {
      "provenance": [],
      "include_colab_link": true
    },
    "kernelspec": {
      "name": "python3",
      "display_name": "Python 3"
    },
    "language_info": {
      "name": "python"
    }
  },
  "cells": [
    {
      "cell_type": "markdown",
      "metadata": {
        "id": "view-in-github",
        "colab_type": "text"
      },
      "source": [
        "<a href=\"https://colab.research.google.com/github/zakiarsyad/Vagrantfile/blob/master/PySpark_Recomender.ipynb\" target=\"_parent\"><img src=\"https://colab.research.google.com/assets/colab-badge.svg\" alt=\"Open In Colab\"/></a>"
      ]
    },
    {
      "cell_type": "code",
      "metadata": {
        "id": "fQ3lIljyVIHZ",
        "colab": {
          "base_uri": "https://localhost:8080/"
        },
        "outputId": "335ca7ec-0335-4580-a36b-ede058f99a66"
      },
      "source": [
        "!pip install pyspark"
      ],
      "execution_count": null,
      "outputs": [
        {
          "output_type": "stream",
          "name": "stdout",
          "text": [
            "Looking in indexes: https://pypi.org/simple, https://us-python.pkg.dev/colab-wheels/public/simple/\n",
            "Collecting pyspark\n",
            "  Downloading pyspark-3.3.0.tar.gz (281.3 MB)\n",
            "\u001b[K     |████████████████████████████████| 281.3 MB 45 kB/s \n",
            "\u001b[?25hCollecting py4j==0.10.9.5\n",
            "  Downloading py4j-0.10.9.5-py2.py3-none-any.whl (199 kB)\n",
            "\u001b[K     |████████████████████████████████| 199 kB 57.3 MB/s \n",
            "\u001b[?25hBuilding wheels for collected packages: pyspark\n",
            "  Building wheel for pyspark (setup.py) ... \u001b[?25l\u001b[?25hdone\n",
            "  Created wheel for pyspark: filename=pyspark-3.3.0-py2.py3-none-any.whl size=281764026 sha256=3881ffd7f034595c4da8157cfa0958fe07606e2e85682fb3dc00ae9e13af947f\n",
            "  Stored in directory: /root/.cache/pip/wheels/7a/8e/1b/f73a52650d2e5f337708d9f6a1750d451a7349a867f928b885\n",
            "Successfully built pyspark\n",
            "Installing collected packages: py4j, pyspark\n",
            "Successfully installed py4j-0.10.9.5 pyspark-3.3.0\n"
          ]
        }
      ]
    },
    {
      "cell_type": "code",
      "metadata": {
        "id": "PEZ0cQ5GVbaR"
      },
      "source": [
        "from pyspark.sql import SparkSession\n",
        "from pyspark.sql.functions import *\n",
        "from pyspark.ml.feature import StringIndexer, IndexToString\n",
        "from pyspark.ml.recommendation import ALS"
      ],
      "execution_count": null,
      "outputs": []
    },
    {
      "cell_type": "code",
      "metadata": {
        "id": "kLsDCOBuV6Hg"
      },
      "source": [
        "spark = SparkSession.builder.appName(\"RS\").getOrCreate()"
      ],
      "execution_count": null,
      "outputs": []
    },
    {
      "cell_type": "code",
      "metadata": {
        "id": "wECmA78vWBD7",
        "colab": {
          "base_uri": "https://localhost:8080/"
        },
        "outputId": "f28f224d-1855-4f44-d79b-8fab222c487d"
      },
      "source": [
        "data = spark.read.csv(\"movie_ratings.csv\", header = True, inferSchema = True)\n",
        "print(data.printSchema())\n",
        "print(data.show())"
      ],
      "execution_count": null,
      "outputs": [
        {
          "output_type": "stream",
          "name": "stdout",
          "text": [
            "root\n",
            " |-- userId: integer (nullable = true)\n",
            " |-- title: string (nullable = true)\n",
            " |-- rating: integer (nullable = true)\n",
            "\n",
            "None\n",
            "+------+------------+------+\n",
            "|userId|       title|rating|\n",
            "+------+------------+------+\n",
            "|   196|Kolya (1996)|     3|\n",
            "|    63|Kolya (1996)|     3|\n",
            "|   226|Kolya (1996)|     5|\n",
            "|   154|Kolya (1996)|     3|\n",
            "|   306|Kolya (1996)|     5|\n",
            "|   296|Kolya (1996)|     4|\n",
            "|    34|Kolya (1996)|     5|\n",
            "|   271|Kolya (1996)|     4|\n",
            "|   201|Kolya (1996)|     4|\n",
            "|   209|Kolya (1996)|     4|\n",
            "|    35|Kolya (1996)|     2|\n",
            "|   354|Kolya (1996)|     5|\n",
            "|   199|Kolya (1996)|     5|\n",
            "|   113|Kolya (1996)|     2|\n",
            "|     1|Kolya (1996)|     5|\n",
            "|   173|Kolya (1996)|     5|\n",
            "|   360|Kolya (1996)|     4|\n",
            "|   234|Kolya (1996)|     4|\n",
            "|    14|Kolya (1996)|     4|\n",
            "|   309|Kolya (1996)|     4|\n",
            "+------+------------+------+\n",
            "only showing top 20 rows\n",
            "\n",
            "None\n"
          ]
        }
      ]
    },
    {
      "cell_type": "code",
      "metadata": {
        "id": "0lSuLl-_Wdy6"
      },
      "source": [
        "stringIndexer = StringIndexer(inputCol = \"title\", outputCol = \"title_new\").fit(data)\n",
        "data = stringIndexer.transform(data)"
      ],
      "execution_count": null,
      "outputs": []
    },
    {
      "cell_type": "code",
      "metadata": {
        "id": "3eO0SdxBWwfz",
        "colab": {
          "base_uri": "https://localhost:8080/"
        },
        "outputId": "0a1e2874-5218-4e4e-c16b-5360257687a7"
      },
      "source": [
        "print(data.show(2))"
      ],
      "execution_count": null,
      "outputs": [
        {
          "output_type": "stream",
          "name": "stdout",
          "text": [
            "+------+------------+------+---------+\n",
            "|userId|       title|rating|title_new|\n",
            "+------+------------+------+---------+\n",
            "|   196|Kolya (1996)|     3|    287.0|\n",
            "|    63|Kolya (1996)|     3|    287.0|\n",
            "+------+------------+------+---------+\n",
            "only showing top 2 rows\n",
            "\n",
            "None\n"
          ]
        }
      ]
    },
    {
      "cell_type": "code",
      "metadata": {
        "id": "qVOG-HXkW-7N"
      },
      "source": [
        "train, test = data.randomSplit([0.7, 0.3])"
      ],
      "execution_count": null,
      "outputs": []
    },
    {
      "cell_type": "code",
      "metadata": {
        "id": "hUbJKBfXXH_B"
      },
      "source": [
        "rec = ALS(userCol = \"userId\", itemCol = \"title_new\", ratingCol = \"rating\", nonnegative = True).fit(train)"
      ],
      "execution_count": null,
      "outputs": []
    },
    {
      "cell_type": "code",
      "metadata": {
        "id": "bcDf_RPmXkyu",
        "colab": {
          "base_uri": "https://localhost:8080/"
        },
        "outputId": "1dded318-2bcc-4504-fbe7-0567b5998d21"
      },
      "source": [
        "prediction = rec.transform(test)\n",
        "print(prediction.show())"
      ],
      "execution_count": null,
      "outputs": [
        {
          "output_type": "stream",
          "name": "stdout",
          "text": [
            "+------+--------------------+------+---------+----------+\n",
            "|userId|               title|rating|title_new|prediction|\n",
            "+------+--------------------+------+---------+----------+\n",
            "|     1|   Abyss, The (1989)|     3|    200.0| 3.6760008|\n",
            "|     1|Ace Ventura: Pet ...|     3|    322.0| 2.7622125|\n",
            "|     1|      Aladdin (1992)|     4|     95.0| 3.6920524|\n",
            "|     1|Army of Darkness ...|     4|    289.0| 3.2743216|\n",
            "|     1|     Bad Boys (1995)|     2|    557.0| 2.6956062|\n",
            "|     1|Basic Instinct (1...|     3|    327.0| 2.9429388|\n",
            "|     1|Batman Returns (1...|     1|    219.0| 2.7900822|\n",
            "|     1| Blade Runner (1982)|     5|     52.0|  4.422504|\n",
            "|     1|Blues Brothers, T...|     4|     64.0| 4.0312576|\n",
            "|     1|       Brazil (1985)|     5|    109.0|  4.298029|\n",
            "|     1|Breakfast at Tiff...|     1|    350.0|   4.08484|\n",
            "|     1|Brother Minister:...|     4|   1299.0|  3.733507|\n",
            "|     1| Citizen Ruth (1996)|     4|    641.0| 3.4395516|\n",
            "|     1|Cyrano de Bergera...|     5|    492.0| 4.1793356|\n",
            "|     1|D3: The Mighty Du...|     1|    936.0|  1.871097|\n",
            "|     1|Dead Poets Societ...|     5|     65.0| 3.9343836|\n",
            "|     1|Devil's Own, The ...|     2|     77.0| 2.7550795|\n",
            "|     1|   Disclosure (1994)|     4|    698.0| 2.9898963|\n",
            "|     1|Dolores Claiborne...|     5|    424.0| 3.1873217|\n",
            "|     1|Doom Generation, ...|     2|   1214.0| 1.6092746|\n",
            "+------+--------------------+------+---------+----------+\n",
            "only showing top 20 rows\n",
            "\n",
            "None\n"
          ]
        }
      ]
    },
    {
      "cell_type": "code",
      "metadata": {
        "id": "0TgrZxX6X9rG",
        "colab": {
          "base_uri": "https://localhost:8080/"
        },
        "outputId": "b0d39db1-da66-4605-ce04-7fb7e2747d2f"
      },
      "source": [
        "unique_movies = data.select(\"title_new\").distinct()\n",
        "print(unique_movies.count())"
      ],
      "execution_count": null,
      "outputs": [
        {
          "output_type": "stream",
          "name": "stdout",
          "text": [
            "1664\n"
          ]
        }
      ]
    },
    {
      "cell_type": "code",
      "metadata": {
        "id": "jweIMrvLYQBV",
        "colab": {
          "base_uri": "https://localhost:8080/"
        },
        "outputId": "481b0c33-8175-4d7b-ffdb-73026bff9482"
      },
      "source": [
        "user_id = 8\n",
        "watched_movies = data.filter(data[\"userId\"] == user_id).select(\"title_new\").distinct()\n",
        "print(watched_movies.count())"
      ],
      "execution_count": null,
      "outputs": [
        {
          "output_type": "stream",
          "name": "stdout",
          "text": [
            "59\n"
          ]
        }
      ]
    },
    {
      "cell_type": "code",
      "metadata": {
        "id": "Wu_O1m2hZvSK"
      },
      "source": [
        "a = unique_movies.alias(\"a\")\n",
        "b = watched_movies.alias(\"b\")"
      ],
      "execution_count": null,
      "outputs": []
    },
    {
      "cell_type": "code",
      "metadata": {
        "id": "jWhqvi0HZN4y",
        "colab": {
          "base_uri": "https://localhost:8080/"
        },
        "outputId": "102085f2-b978-4f47-a7d9-ef6119beb201"
      },
      "source": [
        "total_movies = a.join(b, a.title_new == b.title_new, how = \"left\")\n",
        "print(total_movies.show())"
      ],
      "execution_count": null,
      "outputs": [
        {
          "output_type": "stream",
          "name": "stdout",
          "text": [
            "+---------+---------+\n",
            "|title_new|title_new|\n",
            "+---------+---------+\n",
            "|    305.0|     null|\n",
            "|    596.0|     null|\n",
            "|    299.0|     null|\n",
            "|    769.0|     null|\n",
            "|    692.0|     null|\n",
            "|    934.0|     null|\n",
            "|   1051.0|     null|\n",
            "|    496.0|     null|\n",
            "|    558.0|     null|\n",
            "|    170.0|     null|\n",
            "|    184.0|     null|\n",
            "|    576.0|     null|\n",
            "|    147.0|     null|\n",
            "|    810.0|     null|\n",
            "|    720.0|     null|\n",
            "|    782.0|     null|\n",
            "|   1369.0|     null|\n",
            "|   1587.0|     null|\n",
            "|    160.0|     null|\n",
            "|    608.0|     null|\n",
            "+---------+---------+\n",
            "only showing top 20 rows\n",
            "\n",
            "None\n"
          ]
        }
      ]
    },
    {
      "cell_type": "code",
      "metadata": {
        "id": "DfUEvDICZ9ez",
        "colab": {
          "base_uri": "https://localhost:8080/"
        },
        "outputId": "fbc374f0-084a-4b40-b45a-b2a0558a12a1"
      },
      "source": [
        "remaining_movies = total_movies.where(col(\"b.title_new\").isNull()).select(a.title_new).distinct()\n",
        "print(remaining_movies.show())"
      ],
      "execution_count": null,
      "outputs": [
        {
          "output_type": "stream",
          "name": "stdout",
          "text": [
            "+---------+\n",
            "|title_new|\n",
            "+---------+\n",
            "|    305.0|\n",
            "|    596.0|\n",
            "|    299.0|\n",
            "|    769.0|\n",
            "|    692.0|\n",
            "|    934.0|\n",
            "|   1051.0|\n",
            "|    496.0|\n",
            "|    558.0|\n",
            "|    170.0|\n",
            "|    184.0|\n",
            "|    576.0|\n",
            "|    147.0|\n",
            "|    810.0|\n",
            "|    720.0|\n",
            "|    782.0|\n",
            "|   1369.0|\n",
            "|   1587.0|\n",
            "|    160.0|\n",
            "|    608.0|\n",
            "+---------+\n",
            "only showing top 20 rows\n",
            "\n",
            "None\n"
          ]
        }
      ]
    },
    {
      "cell_type": "code",
      "metadata": {
        "id": "b5GHHs5hadDJ",
        "colab": {
          "base_uri": "https://localhost:8080/"
        },
        "outputId": "e6b4d368-fa1b-4a11-ce91-e1fd21860653"
      },
      "source": [
        "remaining_movies = remaining_movies.withColumn(\"userId\", lit(int(user_id)))\n",
        "print(remaining_movies.show())"
      ],
      "execution_count": null,
      "outputs": [
        {
          "output_type": "stream",
          "name": "stdout",
          "text": [
            "+---------+------+\n",
            "|title_new|userId|\n",
            "+---------+------+\n",
            "|    305.0|     8|\n",
            "|    596.0|     8|\n",
            "|    299.0|     8|\n",
            "|    769.0|     8|\n",
            "|    692.0|     8|\n",
            "|    934.0|     8|\n",
            "|   1051.0|     8|\n",
            "|    496.0|     8|\n",
            "|    558.0|     8|\n",
            "|    170.0|     8|\n",
            "|    184.0|     8|\n",
            "|    576.0|     8|\n",
            "|    147.0|     8|\n",
            "|    810.0|     8|\n",
            "|    720.0|     8|\n",
            "|    782.0|     8|\n",
            "|   1369.0|     8|\n",
            "|   1587.0|     8|\n",
            "|    160.0|     8|\n",
            "|    608.0|     8|\n",
            "+---------+------+\n",
            "only showing top 20 rows\n",
            "\n",
            "None\n"
          ]
        }
      ]
    },
    {
      "cell_type": "code",
      "metadata": {
        "id": "kP9sFHCnavRn",
        "colab": {
          "base_uri": "https://localhost:8080/"
        },
        "outputId": "fa293bcf-987e-4e56-804e-467038985c71"
      },
      "source": [
        "prediction = rec.transform(remaining_movies)\n",
        "prediction = prediction.dropna()\n",
        "print(prediction.show())"
      ],
      "execution_count": null,
      "outputs": [
        {
          "output_type": "stream",
          "name": "stdout",
          "text": [
            "+---------+------+----------+\n",
            "|title_new|userId|prediction|\n",
            "+---------+------+----------+\n",
            "|    305.0|     8| 3.5378315|\n",
            "|    596.0|     8| 3.3999336|\n",
            "|    299.0|     8| 3.9661994|\n",
            "|    769.0|     8| 2.5662215|\n",
            "|    692.0|     8| 3.0315502|\n",
            "|    934.0|     8| 1.0555348|\n",
            "|   1051.0|     8| 3.1642706|\n",
            "|    496.0|     8| 3.3881295|\n",
            "|    558.0|     8|  4.177144|\n",
            "|    170.0|     8| 2.9985428|\n",
            "|    184.0|     8| 3.1689637|\n",
            "|    576.0|     8| 3.3694804|\n",
            "|    147.0|     8|  3.443522|\n",
            "|    810.0|     8| 2.6838658|\n",
            "|    720.0|     8| 3.0760283|\n",
            "|    782.0|     8| 1.5122524|\n",
            "|   1369.0|     8| 3.3224266|\n",
            "|   1587.0|     8|   4.39196|\n",
            "|    160.0|     8| 3.2887082|\n",
            "|    608.0|     8| 3.0178733|\n",
            "+---------+------+----------+\n",
            "only showing top 20 rows\n",
            "\n",
            "None\n"
          ]
        }
      ]
    },
    {
      "cell_type": "code",
      "metadata": {
        "id": "hz1ZQN4ebD9S"
      },
      "source": [
        "movie_title = IndexToString(inputCol = \"title_new\", outputCol = \"title\", labels = stringIndexer.labels)\n",
        "recommendation = movie_title.transform(prediction)"
      ],
      "execution_count": null,
      "outputs": []
    },
    {
      "cell_type": "code",
      "metadata": {
        "id": "uy8DdB_hbk-0",
        "colab": {
          "base_uri": "https://localhost:8080/"
        },
        "outputId": "a61976da-d049-428d-cf32-1ddedaa66772"
      },
      "source": [
        "print(recommendation.orderBy(\"prediction\", ascending = False).show(3, truncate = False))"
      ],
      "execution_count": null,
      "outputs": [
        {
          "output_type": "stream",
          "name": "stdout",
          "text": [
            "+---------+------+----------+----------------------+\n",
            "|title_new|userId|prediction|title                 |\n",
            "+---------+------+----------+----------------------+\n",
            "|1347.0   |8     |5.1891866 |Angel Baby (1995)     |\n",
            "|1306.0   |8     |4.844149  |Faust (1994)          |\n",
            "|1198.0   |8     |4.7409034 |Pather Panchali (1955)|\n",
            "+---------+------+----------+----------------------+\n",
            "only showing top 3 rows\n",
            "\n",
            "None\n"
          ]
        }
      ]
    }
  ]
}